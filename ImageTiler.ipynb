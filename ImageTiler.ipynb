{
 "cells": [
  {
   "cell_type": "code",
   "execution_count": 5,
   "metadata": {},
   "outputs": [
    {
     "name": "stdout",
     "output_type": "stream",
     "text": [
      "Looking in indexes: https://pypi.tuna.tsinghua.edu.cn/simple\n",
      "Collecting pillow\n",
      "  Downloading https://pypi.tuna.tsinghua.edu.cn/packages/cf/81/b40ed97024fa0e7c6305495928996e8f46ab153b07e0f74240f49eec7b7c/Pillow-9.1.0-cp38-cp38-win_amd64.whl (3.3 MB)\n",
      "     ---------------------------------------- 3.3/3.3 MB 1.5 MB/s eta 0:00:00\n",
      "Installing collected packages: pillow\n",
      "Successfully installed pillow-9.1.0\n"
     ]
    }
   ],
   "source": [
    "! pip install pillow -i https://pypi.tuna.tsinghua.edu.cn/simple\n"
   ]
  },
  {
   "cell_type": "code",
   "execution_count": 45,
   "metadata": {},
   "outputs": [
    {
     "name": "stdout",
     "output_type": "stream",
     "text": [
      "Help on built-in function listdir in module nt:\n",
      "\n",
      "listdir(path=None)\n",
      "    Return a list containing the names of the files in the directory.\n",
      "    \n",
      "    path can be specified as either str, bytes, or a path-like object.  If path is bytes,\n",
      "      the filenames returned will also be bytes; in all other circumstances\n",
      "      the filenames returned will be str.\n",
      "    If path is None, uses the path='.'.\n",
      "    On some platforms, path may also be specified as an open file descriptor;\\\n",
      "      the file descriptor must refer to a directory.\n",
      "      If this functionality is unavailable, using it raises NotImplementedError.\n",
      "    \n",
      "    The list is in arbitrary order.  It does not include the special\n",
      "    entries '.' and '..' even if they are present in the directory.\n",
      "\n"
     ]
    }
   ],
   "source": [
    "# help(Image.new)\n",
    "help(os.listdir)"
   ]
  },
  {
   "cell_type": "markdown",
   "metadata": {},
   "source": [
    "# Init"
   ]
  },
  {
   "cell_type": "code",
   "execution_count": 1,
   "metadata": {},
   "outputs": [],
   "source": [
    "import os\n",
    "from PIL import Image"
   ]
  },
  {
   "cell_type": "markdown",
   "metadata": {},
   "source": [
    "# Get file list"
   ]
  },
  {
   "cell_type": "code",
   "execution_count": 2,
   "metadata": {},
   "outputs": [],
   "source": [
    "\n",
    "def GetFolderFiles(filePath,fileExt):\n",
    "    all_file = []\n",
    "    for f in os.listdir(filePath):  #listdir返回文件中所有目录\n",
    "        f_fileMian,f_fileExt=os.path.splitext(f)\n",
    "        #print(f_fileExt)\n",
    "        if(f_fileExt==fileExt):\n",
    "            f_name = os.path.join(filePath, f)\n",
    "            all_file.append(f_name)\n",
    "    return all_file\n"
   ]
  },
  {
   "cell_type": "markdown",
   "metadata": {},
   "source": [
    "# Process Single image"
   ]
  },
  {
   "cell_type": "code",
   "execution_count": 3,
   "metadata": {},
   "outputs": [],
   "source": [
    "def ProcessImage(srcImage: Image.Image,targetSize,keepAspect):\n",
    "    if(not keepAspect):\n",
    "        imgResized=srcImage.resize((targetSize[0],targetSize[1]))\n",
    "        return imgResized\n",
    "    else:\n",
    "        targetWidth,targetHeight=targetSize\n",
    "        srcWidth,srcHeight=srcImage.size\n",
    "        imgResized=Image.new(\"RGBA\",targetSize)\n",
    "        srcRatio=srcWidth/srcHeight\n",
    "        targetRatio=targetWidth/targetHeight\n",
    "        if(targetRatio==srcRatio):\n",
    "             medHeight=targetHeight\n",
    "             medWidth=targetWidth\n",
    "        elif(targetRatio>srcRatio):\n",
    "            medHeight=targetHeight\n",
    "            medWidth=int(srcWidth*(targetHeight/srcHeight))\n",
    "        else:\n",
    "            medWidth=targetWidth\n",
    "            medHeight=int(srcHeight*(targetWidth/srcWidth))\n",
    "        medImg=srcImage.resize((medWidth,medHeight))\n",
    "        imgResized.paste(medImg,( int((targetWidth-medWidth)/2), int((targetHeight-medHeight)/2) ))    \n",
    "        return imgResized\n"
   ]
  },
  {
   "cell_type": "markdown",
   "metadata": {},
   "source": [
    "# Merge Tile processing"
   ]
  },
  {
   "cell_type": "code",
   "execution_count": 4,
   "metadata": {},
   "outputs": [
    {
     "name": "stdout",
     "output_type": "stream",
     "text": [
      "(8, 8)\n"
     ]
    }
   ],
   "source": [
    "from PIL import Image\n",
    "import time\n",
    "destWidth=2048\n",
    "destHeight=2048\n",
    "tileWidth=256\n",
    "tileHeight=256\n",
    "keepAspectRatio=True\n",
    "DestPath = \"e:\\\\temp\\\\\"\n",
    "srcPath=r\"E:\\work\\MindShell\\2D\\decal\\original\\Sign\"\n",
    "#F:\\3D\\cger202205\\Artstation - 360 CyberPunk Decals Bundle - 贴图素材\\Artstation - 360 CyberPunk Decals Bundle - 贴图素材\\DECAL_SET_DANGER_SIGN\\DECAL_DANGER_AND_SIGN\n",
    "\n",
    "rownum=int(destHeight/tileHeight)\n",
    "colnum=int(destWidth/tileWidth)\n",
    "\n",
    "print((rownum,colnum))\n",
    "\n",
    "imgResult = Image.new('RGBA',(2048,2048),(255,255,255))\n",
    "\n",
    "# imgsrc = Image.open('D:/SVNRoot/GamePrototype/src/GameStarterHDRP/Assets/Material/Decal_Texture/Scifi/004/normal.png')\n",
    "# img.show()\n",
    "# print(imgsrc.size)\n",
    "imgResult.size\n",
    "\n",
    "#filelist=GetFolderFiles(r\"D:\\SVNRoot\\GamePrototype\\src\\GameStarterHDRP\\Assets\\Material\\Decal_Texture\\Sign\",\".png\")\n",
    "filelist=GetFolderFiles(srcPath,\".png\")\n",
    "curIndex=0\n",
    "for i in range(rownum):\n",
    "    for j in range(colnum):\n",
    "        if(curIndex<len(filelist)):\n",
    "            currFile=filelist[curIndex]\n",
    "            imgsrc=Image.open(currFile)\n",
    "            #imgResized=imgsrc.resize((tileWidth,tileHeight))\n",
    "            imgResized=ProcessImage(imgsrc,(tileWidth,tileHeight),keepAspectRatio)\n",
    "            imgResult.paste(imgResized,(j*tileHeight,i*tileWidth))\n",
    "        curIndex=curIndex+1\n",
    "        #if curIndex%6==0:\n",
    "        #    curIndex=curIndex+1\n",
    "#print(filelist)\n",
    "\n",
    "\n",
    "imgResult.save(DestPath+\"result\"+time.strftime(\"%Y%m%d-%H%M%S\")+\".png\")\n",
    "\n"
   ]
  },
  {
   "cell_type": "markdown",
   "metadata": {},
   "source": [
    "# Merge Tile 2 (From different Folder)"
   ]
  },
  {
   "cell_type": "code",
   "execution_count": 46,
   "metadata": {},
   "outputs": [],
   "source": [
    "def GetSubFolderList(filePath):\n",
    "    all_file = []\n",
    "    for f in os.listdir(filePath):  #listdir返回文件中所有目录\n",
    "            f_name = os.path.join(filePath, f)\n",
    "            if(os.path.isdir(f_name)):\n",
    "                all_file.append(f_name)\n",
    "    return all_file\n"
   ]
  },
  {
   "cell_type": "code",
   "execution_count": 50,
   "metadata": {},
   "outputs": [
    {
     "name": "stdout",
     "output_type": "stream",
     "text": [
      "(4, 4)\n"
     ]
    }
   ],
   "source": [
    "from PIL import Image\n",
    "import time\n",
    "destWidth=2048\n",
    "destHeight=2048\n",
    "tileWidth=512\n",
    "tileHeight=512\n",
    "DestPath = \"e:\\\\temp\\\\\"\n",
    "srcPath=r\"D:\\SVNRoot\\GamePrototype\\src\\GameStarterHDRP\\Assets\\Material\\Decal_Texture\\Scifi\"\n",
    "srcFileName=\"emission.png\"\n",
    "#F:\\3D\\cger202205\\Artstation - 360 CyberPunk Decals Bundle - 贴图素材\\Artstation - 360 CyberPunk Decals Bundle - 贴图素材\\DECAL_SET_DANGER_SIGN\\DECAL_DANGER_AND_SIGN\n",
    "\n",
    "rownum=int(destHeight/tileHeight)\n",
    "colnum=int(destWidth/tileWidth)\n",
    "\n",
    "print((rownum,colnum))\n",
    "\n",
    "imgResult = Image.new('RGBA',(2048,2048),(255,255,255))\n",
    "\n",
    "# imgsrc = Image.open('D:/SVNRoot/GamePrototype/src/GameStarterHDRP/Assets/Material/Decal_Texture/Scifi/004/normal.png')\n",
    "# img.show()\n",
    "# print(imgsrc.size)\n",
    "\n",
    "\n",
    "#filelist=GetFolderFiles(r\"D:\\SVNRoot\\GamePrototype\\src\\GameStarterHDRP\\Assets\\Material\\Decal_Texture\\Sign\",\".png\")\n",
    "folderlist=GetSubFolderList(srcPath)\n",
    "curIndex=0\n",
    "for i in range(rownum):\n",
    "    for j in range(colnum):\n",
    "        if(curIndex<len(folderlist)):\n",
    "            currPath=folderlist[curIndex]\n",
    "            imgsrc=Image.open(os.path.join(currPath,srcFileName))\n",
    "            imgResized=imgsrc.resize((tileWidth,tileHeight))\n",
    "            imgResult.paste(imgResized,(j*tileHeight,i*tileWidth))\n",
    "        curIndex=curIndex+1\n",
    "        #if curIndex%6==0:\n",
    "        #    curIndex=curIndex+1\n",
    "#print(filelist)\n",
    "\n",
    "\n",
    "imgResult.save(DestPath+\"result\"+time.strftime(\"%Y%m%d-%H%M%S\")+\".png\")\n",
    "\n"
   ]
  },
  {
   "cell_type": "code",
   "execution_count": null,
   "metadata": {},
   "outputs": [],
   "source": []
  }
 ],
 "metadata": {
  "interpreter": {
   "hash": "a95e8ce2b8a84d181eb90432015da9fba0dec413140f0b3722d1a046efb12f4b"
  },
  "kernelspec": {
   "display_name": "Python 3.8.0 64-bit",
   "language": "python",
   "name": "python3"
  },
  "language_info": {
   "codemirror_mode": {
    "name": "ipython",
    "version": 3
   },
   "file_extension": ".py",
   "mimetype": "text/x-python",
   "name": "python",
   "nbconvert_exporter": "python",
   "pygments_lexer": "ipython3",
   "version": "3.8.0"
  },
  "orig_nbformat": 4
 },
 "nbformat": 4,
 "nbformat_minor": 2
}
